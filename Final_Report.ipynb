{
 "cells": [
  {
   "cell_type": "markdown",
   "id": "d87e3125-2ea5-4dc5-b2dd-eb5fae20dd5d",
   "metadata": {},
   "source": [
    "# Final Report : Insert Title Name\n",
    "---"
   ]
  },
  {
   "cell_type": "markdown",
   "id": "1bad10cc-5e53-4eb8-aa84-00fb2f722951",
   "metadata": {
    "jp-MarkdownHeadingCollapsed": true
   },
   "source": [
    "## Introduction \n",
    "---"
   ]
  },
  {
   "cell_type": "markdown",
   "id": "849f8078-4cda-4139-93a4-b6c9816df2cf",
   "metadata": {},
   "source": [
    "## Methods & Results\n",
    "---"
   ]
  },
  {
   "cell_type": "code",
   "execution_count": 1,
   "id": "f977da82-2544-4f82-a8f3-bbf3e2324ce3",
   "metadata": {
    "scrolled": true
   },
   "outputs": [
    {
     "name": "stderr",
     "output_type": "stream",
     "text": [
      "── \u001b[1mAttaching core tidyverse packages\u001b[22m ──────────────────────── tidyverse 2.0.0 ──\n",
      "\u001b[32m✔\u001b[39m \u001b[34mdplyr    \u001b[39m 1.1.4     \u001b[32m✔\u001b[39m \u001b[34mreadr    \u001b[39m 2.1.5\n",
      "\u001b[32m✔\u001b[39m \u001b[34mforcats  \u001b[39m 1.0.0     \u001b[32m✔\u001b[39m \u001b[34mstringr  \u001b[39m 1.5.1\n",
      "\u001b[32m✔\u001b[39m \u001b[34mggplot2  \u001b[39m 3.5.1     \u001b[32m✔\u001b[39m \u001b[34mtibble   \u001b[39m 3.2.1\n",
      "\u001b[32m✔\u001b[39m \u001b[34mlubridate\u001b[39m 1.9.3     \u001b[32m✔\u001b[39m \u001b[34mtidyr    \u001b[39m 1.3.1\n",
      "\u001b[32m✔\u001b[39m \u001b[34mpurrr    \u001b[39m 1.0.2     \n",
      "── \u001b[1mConflicts\u001b[22m ────────────────────────────────────────── tidyverse_conflicts() ──\n",
      "\u001b[31m✖\u001b[39m \u001b[34mdplyr\u001b[39m::\u001b[32mfilter()\u001b[39m masks \u001b[34mstats\u001b[39m::filter()\n",
      "\u001b[31m✖\u001b[39m \u001b[34mdplyr\u001b[39m::\u001b[32mlag()\u001b[39m    masks \u001b[34mstats\u001b[39m::lag()\n",
      "\u001b[36mℹ\u001b[39m Use the conflicted package (\u001b[3m\u001b[34m<http://conflicted.r-lib.org/>\u001b[39m\u001b[23m) to force all conflicts to become errors\n"
     ]
    }
   ],
   "source": [
    "### Libraries\n",
    "library(tidyverse)"
   ]
  },
  {
   "cell_type": "markdown",
   "id": "fbf7b796-3f08-4cba-818c-4dd4d5c53a94",
   "metadata": {},
   "source": [
    "Begin by loading in the `players.csv` dataset:"
   ]
  },
  {
   "cell_type": "code",
   "execution_count": 2,
   "id": "58f24307-7a6c-45d1-beab-4f11aca0cf9e",
   "metadata": {},
   "outputs": [],
   "source": [
    "raw_players <- read_csv(\"data/players.csv\", show_col_types = FALSE) # hide output"
   ]
  },
  {
   "cell_type": "markdown",
   "id": "0fc95731-cf67-4074-a9ea-8c6b8eb2f28d",
   "metadata": {},
   "source": [
    "Perform the following wrangling steps to tidy the data and prepare for $k$-nearest neighbours classification:\n",
    "1. Rename `hashedEmail` and `Age` with `rename()` for consistency with other column names.\n",
    "2. Keep only the relevant predictor columns `age`, `played_hours` and the label column `subscribe` using `select()`.\n",
    "3. Remove `NA` values using `drop_na()`. `NA` values can be assumed to be random rather than informative (DSCI 100 textbook, Ch. 5.7.3). <i><b> ****requires proper citation </b></i>\n",
    "4. Transform the label `subscribe` from `lgl` to `fct` type with `mutate()` and `as_factor()`.\n",
    "5. Reassign the default category `\"TRUE\"` and `\"FALSE\"` to `\"Yes\"` and `\"No\"` to make the answer to the predictive question clearer."
   ]
  },
  {
   "cell_type": "code",
   "execution_count": 3,
   "id": "f5e7e5e9-c6f6-4b0e-956c-22f9167ec947",
   "metadata": {},
   "outputs": [
    {
     "data": {
      "text/html": [
       "<table class=\"dataframe\">\n",
       "<caption>A tibble: 194 × 3</caption>\n",
       "<thead>\n",
       "\t<tr><th scope=col>age</th><th scope=col>played_hours</th><th scope=col>subscribe</th></tr>\n",
       "\t<tr><th scope=col>&lt;dbl&gt;</th><th scope=col>&lt;dbl&gt;</th><th scope=col>&lt;fct&gt;</th></tr>\n",
       "</thead>\n",
       "<tbody>\n",
       "\t<tr><td> 9</td><td>30.3</td><td>Yes</td></tr>\n",
       "\t<tr><td>17</td><td> 3.8</td><td>Yes</td></tr>\n",
       "\t<tr><td>17</td><td> 0.0</td><td>No </td></tr>\n",
       "\t<tr><td>⋮</td><td>⋮</td><td>⋮</td></tr>\n",
       "\t<tr><td>22</td><td>0.3</td><td>No</td></tr>\n",
       "\t<tr><td>17</td><td>0.0</td><td>No</td></tr>\n",
       "\t<tr><td>17</td><td>2.3</td><td>No</td></tr>\n",
       "</tbody>\n",
       "</table>\n"
      ],
      "text/latex": [
       "A tibble: 194 × 3\n",
       "\\begin{tabular}{lll}\n",
       " age & played\\_hours & subscribe\\\\\n",
       " <dbl> & <dbl> & <fct>\\\\\n",
       "\\hline\n",
       "\t  9 & 30.3 & Yes\\\\\n",
       "\t 17 &  3.8 & Yes\\\\\n",
       "\t 17 &  0.0 & No \\\\\n",
       "\t ⋮ & ⋮ & ⋮\\\\\n",
       "\t 22 & 0.3 & No\\\\\n",
       "\t 17 & 0.0 & No\\\\\n",
       "\t 17 & 2.3 & No\\\\\n",
       "\\end{tabular}\n"
      ],
      "text/markdown": [
       "\n",
       "A tibble: 194 × 3\n",
       "\n",
       "| age &lt;dbl&gt; | played_hours &lt;dbl&gt; | subscribe &lt;fct&gt; |\n",
       "|---|---|---|\n",
       "|  9 | 30.3 | Yes |\n",
       "| 17 |  3.8 | Yes |\n",
       "| 17 |  0.0 | No  |\n",
       "| ⋮ | ⋮ | ⋮ |\n",
       "| 22 | 0.3 | No |\n",
       "| 17 | 0.0 | No |\n",
       "| 17 | 2.3 | No |\n",
       "\n"
      ],
      "text/plain": [
       "    age played_hours subscribe\n",
       "1    9  30.3         Yes      \n",
       "2   17   3.8         Yes      \n",
       "3   17   0.0         No       \n",
       "⋮   ⋮   ⋮            ⋮        \n",
       "192 22  0.3          No       \n",
       "193 17  0.0          No       \n",
       "194 17  2.3          No       "
      ]
     },
     "metadata": {},
     "output_type": "display_data"
    }
   ],
   "source": [
    "options(repr.matrix.max.rows = 6) # limit to 6 observations for brevity\n",
    "players <- raw_players |>\n",
    "    rename(\"hashed_email\" = \"hashedEmail\", \"age\" = \"Age\") |>\n",
    "    select(age, played_hours, subscribe) |>\n",
    "    drop_na() |>\n",
    "    mutate(subscribe = as_factor(subscribe)) |>\n",
    "    mutate(subscribe = fct_recode(subscribe, \"Yes\" = \"TRUE\", \"No\" = \"FALSE\"))\n",
    "players"
   ]
  },
  {
   "cell_type": "markdown",
   "id": "4e7676e8-85e7-48e7-a911-9d305ed6f4ca",
   "metadata": {},
   "source": [
    "Before beginning $k$-nn analysis, obtain some basic summary statistics on `players`:"
   ]
  },
  {
   "cell_type": "code",
   "execution_count": 4,
   "id": "e1a75e2f-3434-4b25-a840-d23123e32688",
   "metadata": {
    "scrolled": true
   },
   "outputs": [
    {
     "data": {
      "text/html": [
       "<table class=\"dataframe\">\n",
       "<caption>A tibble: 1 × 7</caption>\n",
       "<thead>\n",
       "\t<tr><th scope=col>observation_count</th><th scope=col>min_hours</th><th scope=col>max_hours</th><th scope=col>mean_hours</th><th scope=col>min_age</th><th scope=col>max_age</th><th scope=col>mean_age</th></tr>\n",
       "\t<tr><th scope=col>&lt;int&gt;</th><th scope=col>&lt;dbl&gt;</th><th scope=col>&lt;dbl&gt;</th><th scope=col>&lt;dbl&gt;</th><th scope=col>&lt;dbl&gt;</th><th scope=col>&lt;dbl&gt;</th><th scope=col>&lt;dbl&gt;</th></tr>\n",
       "</thead>\n",
       "<tbody>\n",
       "\t<tr><td>194</td><td>0</td><td>223.1</td><td>5.904639</td><td>8</td><td>50</td><td>20.52062</td></tr>\n",
       "</tbody>\n",
       "</table>\n"
      ],
      "text/latex": [
       "A tibble: 1 × 7\n",
       "\\begin{tabular}{lllllll}\n",
       " observation\\_count & min\\_hours & max\\_hours & mean\\_hours & min\\_age & max\\_age & mean\\_age\\\\\n",
       " <int> & <dbl> & <dbl> & <dbl> & <dbl> & <dbl> & <dbl>\\\\\n",
       "\\hline\n",
       "\t 194 & 0 & 223.1 & 5.904639 & 8 & 50 & 20.52062\\\\\n",
       "\\end{tabular}\n"
      ],
      "text/markdown": [
       "\n",
       "A tibble: 1 × 7\n",
       "\n",
       "| observation_count &lt;int&gt; | min_hours &lt;dbl&gt; | max_hours &lt;dbl&gt; | mean_hours &lt;dbl&gt; | min_age &lt;dbl&gt; | max_age &lt;dbl&gt; | mean_age &lt;dbl&gt; |\n",
       "|---|---|---|---|---|---|---|\n",
       "| 194 | 0 | 223.1 | 5.904639 | 8 | 50 | 20.52062 |\n",
       "\n"
      ],
      "text/plain": [
       "  observation_count min_hours max_hours mean_hours min_age max_age mean_age\n",
       "1 194               0         223.1     5.904639   8       50      20.52062"
      ]
     },
     "metadata": {},
     "output_type": "display_data"
    }
   ],
   "source": [
    "players_summary <- players |>\n",
    "    summarize(\n",
    "        observation_count = n(),\n",
    "    \tmin_hours = min(played_hours),\n",
    "    \tmax_hours = max(played_hours),\n",
    "    \tmean_hours = mean(played_hours),\n",
    "    \tmin_age = min(age), \n",
    "    \tmax_age = max(age),\n",
    "    \tmean_age = mean(age)\n",
    "    )\n",
    "players_summary"
   ]
  },
  {
   "cell_type": "markdown",
   "id": "878dbc5d-e58e-4e75-a91e-0df28afd95c5",
   "metadata": {},
   "source": [
    "Both the range of values and mean of `played_hours` and `age` differ greatly, so we will have to scale and centre the data to ensure they contribute equally to the Euclidean distance formula used by $k$-nn. \n",
    "\n",
    "Next, check for class imbalances:"
   ]
  },
  {
   "cell_type": "code",
   "execution_count": 6,
   "id": "b7d7d2a7-c2b5-44c6-ae4e-081ff1b44796",
   "metadata": {},
   "outputs": [
    {
     "data": {
      "text/html": [
       "<table class=\"dataframe\">\n",
       "<caption>A tibble: 2 × 3</caption>\n",
       "<thead>\n",
       "\t<tr><th scope=col>subscribe</th><th scope=col>count</th><th scope=col>percentage</th></tr>\n",
       "\t<tr><th scope=col>&lt;fct&gt;</th><th scope=col>&lt;int&gt;</th><th scope=col>&lt;dbl&gt;</th></tr>\n",
       "</thead>\n",
       "<tbody>\n",
       "\t<tr><td>No </td><td> 52</td><td>26.80412</td></tr>\n",
       "\t<tr><td>Yes</td><td>142</td><td>73.19588</td></tr>\n",
       "</tbody>\n",
       "</table>\n"
      ],
      "text/latex": [
       "A tibble: 2 × 3\n",
       "\\begin{tabular}{lll}\n",
       " subscribe & count & percentage\\\\\n",
       " <fct> & <int> & <dbl>\\\\\n",
       "\\hline\n",
       "\t No  &  52 & 26.80412\\\\\n",
       "\t Yes & 142 & 73.19588\\\\\n",
       "\\end{tabular}\n"
      ],
      "text/markdown": [
       "\n",
       "A tibble: 2 × 3\n",
       "\n",
       "| subscribe &lt;fct&gt; | count &lt;int&gt; | percentage &lt;dbl&gt; |\n",
       "|---|---|---|\n",
       "| No  |  52 | 26.80412 |\n",
       "| Yes | 142 | 73.19588 |\n",
       "\n"
      ],
      "text/plain": [
       "  subscribe count percentage\n",
       "1 No         52   26.80412  \n",
       "2 Yes       142   73.19588  "
      ]
     },
     "metadata": {},
     "output_type": "display_data"
    }
   ],
   "source": [
    "total_number_of_observations <- nrow(players)\n",
    "players_classes <- players |>\n",
    "\tgroup_by(subscribe) |>\n",
    "\tsummarize(\n",
    "\t\tcount = n(),\n",
    "\t\tpercentage = n() / total_number_of_observations * 100\n",
    "        )\n",
    "players_classes"
   ]
  },
  {
   "cell_type": "code",
   "execution_count": null,
   "id": "a3b330a4-c73d-4b44-accc-c6479934beaf",
   "metadata": {},
   "outputs": [],
   "source": []
  },
  {
   "cell_type": "markdown",
   "id": "b2ff5990-1b8e-486a-80d8-cd643004dea4",
   "metadata": {},
   "source": [
    "## Discussion\n",
    "---"
   ]
  },
  {
   "cell_type": "markdown",
   "id": "3bfde0e4-a6e4-4c92-af7e-88566603a4d1",
   "metadata": {},
   "source": [
    "## References\n",
    "---"
   ]
  }
 ],
 "metadata": {
  "kernelspec": {
   "display_name": "R",
   "language": "R",
   "name": "ir"
  },
  "language_info": {
   "codemirror_mode": "r",
   "file_extension": ".r",
   "mimetype": "text/x-r-source",
   "name": "R",
   "pygments_lexer": "r",
   "version": "4.3.3"
  }
 },
 "nbformat": 4,
 "nbformat_minor": 5
}
