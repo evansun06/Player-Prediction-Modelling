{
 "cells": [
  {
   "cell_type": "markdown",
   "id": "d87e3125-2ea5-4dc5-b2dd-eb5fae20dd5d",
   "metadata": {},
   "source": [
    "## Final Report : Insert Title Name\n",
    "---"
   ]
  },
  {
   "cell_type": "markdown",
   "id": "1bad10cc-5e53-4eb8-aa84-00fb2f722951",
   "metadata": {},
   "source": [
    "### Introduction \n",
    "---"
   ]
  },
  {
   "cell_type": "markdown",
   "id": "6bb0ff3f-c5db-4574-9b7d-738ef371e25d",
   "metadata": {},
   "source": [
    "### Preliminary Visualization\n",
    "---"
   ]
  },
  {
   "cell_type": "markdown",
   "id": "66da737b-10e5-4243-9e18-896b5bd29eaa",
   "metadata": {},
   "source": [
    "### Modelling"
   ]
  },
  {
   "cell_type": "code",
   "execution_count": null,
   "id": "3d2f71d6-32b1-46d2-8673-44ebd484b31a",
   "metadata": {},
   "outputs": [],
   "source": []
  }
 ],
 "metadata": {
  "kernelspec": {
   "display_name": "R",
   "language": "R",
   "name": "ir"
  },
  "language_info": {
   "codemirror_mode": "r",
   "file_extension": ".r",
   "mimetype": "text/x-r-source",
   "name": "R",
   "pygments_lexer": "r",
   "version": "4.3.3"
  }
 },
 "nbformat": 4,
 "nbformat_minor": 5
}
